{
 "cells": [
  {
   "cell_type": "markdown",
   "id": "49d78cb9",
   "metadata": {},
   "source": [
    "# Mapper3.py"
   ]
  },
  {
   "cell_type": "code",
   "execution_count": 3,
   "id": "95ff0679",
   "metadata": {},
   "outputs": [
    {
     "name": "stdout",
     "output_type": "stream",
     "text": [
      "Training Accuracy: 0.6482521983632659\n",
      "Training Precision: 0.6709419655876349\n",
      "Training Recall: 0.8761214946153026\n"
     ]
    }
   ],
   "source": [
    "#!/usr/bin/env python3\n",
    "\n",
    "import sys\n",
    "import pickle\n",
    "import pandas as pd\n",
    "from sklearn.naive_bayes import MultinomialNB\n",
    "from sklearn.model_selection import train_test_split\n",
    "from sklearn.feature_extraction.text import CountVectorizer\n",
    "from sklearn.metrics import precision_score, recall_score, accuracy_score\n",
    "\n",
    "def train_naive_bayes(X_train, y_train):\n",
    "    # Convert the list of feature lists to a list of strings\n",
    "    X_train_str = [' '.join(map(str, features)) for features in X_train]\n",
    "\n",
    "    # Vectorize the features using CountVectorizer\n",
    "    vectorizer = CountVectorizer()\n",
    "    X_train_vec = vectorizer.fit_transform(X_train_str)\n",
    "\n",
    "    # Create and train Naive Bayes classifier\n",
    "    naive_bayes = MultinomialNB()\n",
    "    naive_bayes.fit(X_train_vec, y_train)\n",
    "\n",
    "    # Evaluate the model\n",
    "    y_pred_train = naive_bayes.predict(X_train_vec)\n",
    "\n",
    "    accuracy = accuracy_score(y_train, y_pred_train)\n",
    "    precision = precision_score(y_train, y_pred_train, average='binary')\n",
    "    recall = recall_score(y_train, y_pred_train, average='binary')\n",
    "\n",
    "    print(f\"Training Accuracy: {accuracy}\")\n",
    "    print(f\"Training Precision: {precision}\")\n",
    "    print(f\"Training Recall: {recall}\")\n",
    "\n",
    "    # Save the trained model as a pickle file\n",
    "    with open('naive_bayes_model.pkl', 'wb') as model_file:\n",
    "        pickle.dump(naive_bayes, model_file, protocol=2)\n",
    "\n",
    "    # Save the vectorizer as a pickle file\n",
    "    with open('vectorizer.pkl', 'wb') as vectorizer_file:\n",
    "        pickle.dump(vectorizer, vectorizer_file, protocol=2)\n",
    "\n",
    "    return naive_bayes, accuracy, precision, recall\n",
    "\n",
    "def main():\n",
    "    # Specify the number of rows to include for training\n",
    "    #num_rows_train = 30000  # You can change this number as needed\n",
    "\n",
    "    # Read training data from \"flights_train.txt\"\n",
    "    train_data = pd.read_csv(\"flights_train.txt\", sep='\\t')\n",
    "\n",
    "    # Extract features and labels\n",
    "    X_train = train_data[\"Features\"].apply(eval).tolist()\n",
    "    y_train = train_data[\"delay\"].apply(lambda x: 1 if x > 0 else 0).tolist()\n",
    "\n",
    "    # Train Naive Bayes classifier\n",
    "    naive_bayes_model, training_accuracy, training_precision, training_recall = train_naive_bayes(X_train, y_train)\n",
    "\n",
    "if __name__ == \"__main__\":\n",
    "    main()\n"
   ]
  },
  {
   "cell_type": "code",
   "execution_count": null,
   "id": "c7a8e37e",
   "metadata": {},
   "outputs": [],
   "source": []
  },
  {
   "cell_type": "markdown",
   "id": "f18ce74c",
   "metadata": {},
   "source": [
    "# Reducer3.py"
   ]
  },
  {
   "cell_type": "code",
   "execution_count": 4,
   "id": "8afaab5f",
   "metadata": {},
   "outputs": [
    {
     "name": "stdout",
     "output_type": "stream",
     "text": [
      "Test Accuracy: 0.6435595648302296\n",
      "Test Precision: 0.6658955485453908\n",
      "Test Recall: 0.8738194529620998\n"
     ]
    }
   ],
   "source": [
    "#!/usr/bin/env python3\n",
    "\n",
    "import sys\n",
    "import pickle\n",
    "import pandas as pd\n",
    "from sklearn.metrics import precision_score, recall_score, accuracy_score\n",
    "\n",
    "def test_naive_bayes(X_test, y_test):\n",
    "    # Load the trained model from pickle file\n",
    "    with open('naive_bayes_model.pkl', 'rb') as model_file:\n",
    "        naive_bayes = pickle.load(model_file)\n",
    "\n",
    "    # Load the vectorizer from pickle file\n",
    "    with open('vectorizer.pkl', 'rb') as vectorizer_file:\n",
    "        vectorizer = pickle.load(vectorizer_file)\n",
    "\n",
    "    # Convert the list of feature lists to a list of strings\n",
    "    X_test_str = [' '.join(map(str, features)) for features in X_test]\n",
    "\n",
    "    # Vectorize the features using the loaded vectorizer\n",
    "    X_test_vec = vectorizer.transform(X_test_str)\n",
    "\n",
    "    # Convert the \"delay\" column to binary (0 for not delayed, 1 for delayed)\n",
    "    y_test_binary = [1 if x > 0 else 0 for x in y_test]\n",
    "\n",
    "    # Evaluate the model on the test set\n",
    "    y_pred_test = naive_bayes.predict(X_test_vec)\n",
    "\n",
    "    test_accuracy = accuracy_score(y_test_binary, y_pred_test)\n",
    "    test_precision = precision_score(y_test_binary, y_pred_test)\n",
    "    test_recall = recall_score(y_test_binary, y_pred_test)\n",
    "\n",
    "    print(f\"Test Accuracy: {test_accuracy}\")\n",
    "    print(f\"Test Precision: {test_precision}\")\n",
    "    print(f\"Test Recall: {test_recall}\")\n",
    "\n",
    "def main():\n",
    "    # Specify the number of rows to include for testing\n",
    "    #num_rows_test = 200  # You can change this number as needed\n",
    "\n",
    "    # Read testing data from \"flights_test.txt\"\n",
    "    test_data = pd.read_csv(\"flights_test.txt\", sep='\\t')\n",
    "\n",
    "    # Extract features and labels\n",
    "    X_test = test_data[\"Features\"].apply(eval).tolist()\n",
    "    y_test = test_data[\"delay\"].tolist()\n",
    "\n",
    "    # Test Naive Bayes classifier\n",
    "    test_naive_bayes(X_test, y_test)\n",
    "\n",
    "if __name__ == \"__main__\":\n",
    "    main()\n"
   ]
  },
  {
   "cell_type": "code",
   "execution_count": null,
   "id": "4a9df93a",
   "metadata": {},
   "outputs": [],
   "source": []
  },
  {
   "cell_type": "code",
   "execution_count": null,
   "id": "c450b477",
   "metadata": {},
   "outputs": [],
   "source": []
  }
 ],
 "metadata": {
  "kernelspec": {
   "display_name": "Python 3 (ipykernel)",
   "language": "python",
   "name": "python3"
  },
  "language_info": {
   "codemirror_mode": {
    "name": "ipython",
    "version": 3
   },
   "file_extension": ".py",
   "mimetype": "text/x-python",
   "name": "python",
   "nbconvert_exporter": "python",
   "pygments_lexer": "ipython3",
   "version": "3.9.18"
  }
 },
 "nbformat": 4,
 "nbformat_minor": 5
}
