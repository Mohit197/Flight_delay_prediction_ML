{
 "cells": [
  {
   "cell_type": "markdown",
   "id": "7dadd29d",
   "metadata": {},
   "source": [
    "# Mapper3.py"
   ]
  },
  {
   "cell_type": "code",
   "execution_count": 3,
   "id": "507fb720",
   "metadata": {},
   "outputs": [
    {
     "name": "stdout",
     "output_type": "stream",
     "text": [
      "Training Accuracy: 0.9999951604551108\n",
      "Training Precision: 1.0\n",
      "Training Recall: 0.9999923837377569\n"
     ]
    }
   ],
   "source": [
    "#!/usr/bin/env python3\n",
    "\n",
    "import sys\n",
    "import pickle\n",
    "import pandas as pd\n",
    "from sklearn.tree import DecisionTreeClassifier\n",
    "from sklearn.model_selection import train_test_split\n",
    "from sklearn.metrics import precision_score, recall_score, accuracy_score\n",
    "\n",
    "def train_decision_tree(X_train, y_train):\n",
    "    # Create and train Decision Tree classifier\n",
    "    decision_tree = DecisionTreeClassifier()\n",
    "    decision_tree.fit(X_train, y_train)\n",
    "\n",
    "    # Evaluate the model\n",
    "    y_pred_train = decision_tree.predict(X_train)\n",
    "\n",
    "    accuracy = accuracy_score(y_train, y_pred_train)\n",
    "    precision = precision_score(y_train, y_pred_train, average='binary')\n",
    "    recall = recall_score(y_train, y_pred_train, average='binary')\n",
    "\n",
    "    print(f\"Training Accuracy: {accuracy}\")\n",
    "    print(f\"Training Precision: {precision}\")\n",
    "    print(f\"Training Recall: {recall}\")\n",
    "\n",
    "    # Save the trained model as a pickle file\n",
    "    with open('decision_tree_model.pkl', 'wb') as model_file:\n",
    "        pickle.dump(decision_tree, model_file, protocol=2)\n",
    "\n",
    "    return decision_tree, accuracy, precision, recall\n",
    "\n",
    "def main():\n",
    "    # Specify the number of rows to include for training\n",
    "    #num_rows_train = 30000  # You can change this number as needed\n",
    "\n",
    "    # Read training data from \"flights_train.txt\"\n",
    "    train_data = pd.read_csv(\"flights_train.txt\", sep='\\t')\n",
    "\n",
    "    # Extract features and labels\n",
    "    X_train = train_data[\"Features\"].apply(eval).tolist()\n",
    "    y_train = train_data[\"delay\"].apply(lambda x: 1 if x > 0 else 0).tolist()\n",
    "\n",
    "    # Train Decision Tree classifier\n",
    "    decision_tree_model, training_accuracy, training_precision, training_recall = train_decision_tree(X_train, y_train)\n",
    "\n",
    "if __name__ == \"__main__\":\n",
    "    main()\n"
   ]
  },
  {
   "cell_type": "markdown",
   "id": "a146b835",
   "metadata": {},
   "source": [
    "# Reducer3.py"
   ]
  },
  {
   "cell_type": "code",
   "execution_count": 4,
   "id": "e553fdb2",
   "metadata": {},
   "outputs": [
    {
     "name": "stdout",
     "output_type": "stream",
     "text": [
      "Test Accuracy: 0.6608269774284719\n",
      "Test Precision: 0.7308975182839133\n",
      "Test Recall: 0.7323991168894886\n"
     ]
    }
   ],
   "source": [
    "#!/usr/bin/env python3\n",
    "\n",
    "import sys\n",
    "import pickle\n",
    "import pandas as pd\n",
    "from sklearn.metrics import precision_score, recall_score, accuracy_score\n",
    "\n",
    "def test_decision_tree(X_test, y_test):\n",
    "    # Load the trained model from pickle file\n",
    "    with open('decision_tree_model.pkl', 'rb') as model_file:\n",
    "        decision_tree = pickle.load(model_file)\n",
    "\n",
    "    # Convert the \"delay\" column to binary (0 for not delayed, 1 for delayed)\n",
    "    y_test_binary = [1 if x > 0 else 0 for x in y_test]\n",
    "\n",
    "    # Evaluate the model on the test set\n",
    "    y_pred_test = decision_tree.predict(X_test)\n",
    "\n",
    "    test_accuracy = accuracy_score(y_test_binary, y_pred_test)\n",
    "    test_precision = precision_score(y_test_binary, y_pred_test)\n",
    "    test_recall = recall_score(y_test_binary, y_pred_test)\n",
    "\n",
    "    print(f\"Test Accuracy: {test_accuracy}\")\n",
    "    print(f\"Test Precision: {test_precision}\")\n",
    "    print(f\"Test Recall: {test_recall}\")\n",
    "\n",
    "def main():\n",
    "    # Specify the number of rows to include for testing\n",
    "    #num_rows_test = 500  # You can change this number as needed\n",
    "\n",
    "    # Read testing data from \"flights_test.txt\"\n",
    "    test_data = pd.read_csv(\"flights_test.txt\", sep='\\t')\n",
    "\n",
    "    # Extract features and labels\n",
    "    X_test = test_data[\"Features\"].apply(eval).tolist()\n",
    "    y_test = test_data[\"delay\"].tolist()\n",
    "\n",
    "    # Test Decision Tree classifier\n",
    "    test_decision_tree(X_test, y_test)\n",
    "\n",
    "if __name__ == \"__main__\":\n",
    "    main()\n"
   ]
  },
  {
   "cell_type": "code",
   "execution_count": null,
   "id": "53fc8931",
   "metadata": {},
   "outputs": [],
   "source": []
  },
  {
   "cell_type": "code",
   "execution_count": null,
   "id": "ea52f1d3",
   "metadata": {},
   "outputs": [],
   "source": []
  }
 ],
 "metadata": {
  "kernelspec": {
   "display_name": "Python 3 (ipykernel)",
   "language": "python",
   "name": "python3"
  },
  "language_info": {
   "codemirror_mode": {
    "name": "ipython",
    "version": 3
   },
   "file_extension": ".py",
   "mimetype": "text/x-python",
   "name": "python",
   "nbconvert_exporter": "python",
   "pygments_lexer": "ipython3",
   "version": "3.9.18"
  }
 },
 "nbformat": 4,
 "nbformat_minor": 5
}
