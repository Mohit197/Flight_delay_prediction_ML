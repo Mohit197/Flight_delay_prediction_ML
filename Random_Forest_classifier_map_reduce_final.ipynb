{
 "cells": [
  {
   "cell_type": "markdown",
   "id": "e11ccabd",
   "metadata": {},
   "source": [
    "# Mapper3.py"
   ]
  },
  {
   "cell_type": "code",
   "execution_count": 3,
   "id": "0e9a9877",
   "metadata": {},
   "outputs": [
    {
     "name": "stdout",
     "output_type": "stream",
     "text": [
      "Training Accuracy: 0.985\n",
      "Training Precision: 0.9875\n",
      "Training Recall: 0.9890453834115805\n"
     ]
    }
   ],
   "source": [
    "#!/usr/bin/env python3\n",
    "\n",
    "import sys\n",
    "import pickle\n",
    "import pandas as pd\n",
    "from sklearn.ensemble import RandomForestClassifier\n",
    "from sklearn.model_selection import train_test_split\n",
    "from sklearn.metrics import precision_score, recall_score, accuracy_score\n",
    "\n",
    "def train_random_forest(X_train, y_train):\n",
    "    # Create and train Random Forest classifier\n",
    "    random_forest = RandomForestClassifier(n_estimators=10)\n",
    "    random_forest.fit(X_train, y_train)\n",
    "\n",
    "    # Evaluate the model\n",
    "    y_pred_train = random_forest.predict(X_train)\n",
    "\n",
    "    accuracy = accuracy_score(y_train, y_pred_train)\n",
    "    precision = precision_score(y_train, y_pred_train, average='binary')\n",
    "    recall = recall_score(y_train, y_pred_train, average='binary')\n",
    "\n",
    "    print(f\"Training Accuracy: {accuracy}\")\n",
    "    print(f\"Training Precision: {precision}\")\n",
    "    print(f\"Training Recall: {recall}\")\n",
    "\n",
    "    # Save the trained model as a pickle file\n",
    "    with open('random_forest_model.pkl', 'wb') as model_file:\n",
    "        pickle.dump(random_forest, model_file, protocol=2)\n",
    "\n",
    "    return random_forest, accuracy, precision, recall\n",
    "\n",
    "def main():\n",
    "    # Specify the number of rows to include for training\n",
    "    num_rows_train = 1000  # You can change this number as needed\n",
    "\n",
    "    # Read training data from \"flights_train.txt\"\n",
    "    train_data = pd.read_csv(\"flights_train.txt\", sep='\\t', nrows=num_rows_train)\n",
    "\n",
    "    # Extract features and labels\n",
    "    X_train = train_data[\"Features\"].apply(eval).tolist()\n",
    "    y_train = train_data[\"delay\"].apply(lambda x: 1 if x > 0 else 0).tolist()\n",
    "\n",
    "    # Train Random Forest classifier\n",
    "    random_forest_model, training_accuracy, training_precision, training_recall = train_random_forest(X_train, y_train)\n",
    "\n",
    "if __name__ == \"__main__\":\n",
    "    main()\n"
   ]
  },
  {
   "cell_type": "markdown",
   "id": "a3687aec",
   "metadata": {},
   "source": [
    "# Reducer3.py"
   ]
  },
  {
   "cell_type": "code",
   "execution_count": 4,
   "id": "890cca80",
   "metadata": {},
   "outputs": [
    {
     "name": "stdout",
     "output_type": "stream",
     "text": [
      "Test Accuracy: 0.646\n",
      "Test Precision: 0.7012195121951219\n",
      "Test Recall: 0.7443365695792881\n"
     ]
    }
   ],
   "source": [
    "#!/usr/bin/env python3\n",
    "\n",
    "import sys\n",
    "import pickle\n",
    "import pandas as pd\n",
    "from sklearn.metrics import precision_score, recall_score, accuracy_score\n",
    "\n",
    "def test_random_forest(X_test, y_test):\n",
    "    # Load the trained model from pickle file\n",
    "    with open('random_forest_model.pkl', 'rb') as model_file:\n",
    "        random_forest = pickle.load(model_file)\n",
    "\n",
    "    # Convert the \"delay\" column to binary (0 for not delayed, 1 for delayed)\n",
    "    y_test_binary = [1 if x > 0 else 0 for x in y_test]\n",
    "\n",
    "    # Evaluate the model on the test set\n",
    "    y_pred_test = random_forest.predict(X_test)\n",
    "\n",
    "    test_accuracy = accuracy_score(y_test_binary, y_pred_test)\n",
    "    test_precision = precision_score(y_test_binary, y_pred_test)\n",
    "    test_recall = recall_score(y_test_binary, y_pred_test)\n",
    "\n",
    "    print(f\"Test Accuracy: {test_accuracy}\")\n",
    "    print(f\"Test Precision: {test_precision}\")\n",
    "    print(f\"Test Recall: {test_recall}\")\n",
    "\n",
    "def main():\n",
    "    # Specify the number of rows to include for testing\n",
    "    num_rows_test = 500  # You can change this number as needed\n",
    "\n",
    "    # Read testing data from \"flights_test.txt\"\n",
    "    test_data = pd.read_csv(\"flights_test.txt\", sep='\\t', nrows=num_rows_test)\n",
    "\n",
    "    # Extract features and labels\n",
    "    X_test = test_data[\"Features\"].apply(eval).tolist()\n",
    "    y_test = test_data[\"delay\"].tolist()\n",
    "\n",
    "    # Test Random Forest classifier\n",
    "    test_random_forest(X_test, y_test)\n",
    "\n",
    "if __name__ == \"__main__\":\n",
    "    main()\n"
   ]
  },
  {
   "cell_type": "code",
   "execution_count": null,
   "id": "800117a7",
   "metadata": {},
   "outputs": [],
   "source": []
  },
  {
   "cell_type": "code",
   "execution_count": null,
   "id": "fbd9ab4c",
   "metadata": {},
   "outputs": [],
   "source": []
  },
  {
   "cell_type": "code",
   "execution_count": null,
   "id": "533316a0",
   "metadata": {},
   "outputs": [],
   "source": []
  },
  {
   "cell_type": "code",
   "execution_count": null,
   "id": "4ffac0fb",
   "metadata": {},
   "outputs": [],
   "source": []
  }
 ],
 "metadata": {
  "kernelspec": {
   "display_name": "Python 3 (ipykernel)",
   "language": "python",
   "name": "python3"
  },
  "language_info": {
   "codemirror_mode": {
    "name": "ipython",
    "version": 3
   },
   "file_extension": ".py",
   "mimetype": "text/x-python",
   "name": "python",
   "nbconvert_exporter": "python",
   "pygments_lexer": "ipython3",
   "version": "3.9.18"
  }
 },
 "nbformat": 4,
 "nbformat_minor": 5
}
