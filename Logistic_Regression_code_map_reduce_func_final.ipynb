{
 "cells": [
  {
   "cell_type": "markdown",
   "id": "d73144c0",
   "metadata": {},
   "source": [
    "# Mapper3.py"
   ]
  },
  {
   "cell_type": "code",
   "execution_count": 23,
   "id": "4847b33c",
   "metadata": {},
   "outputs": [
    {
     "name": "stdout",
     "output_type": "stream",
     "text": [
      "Training Accuracy: 0.6475117479952185\n",
      "Training Precision: 0.6561920588188147\n",
      "Training Recall: 0.935330317293485\n"
     ]
    }
   ],
   "source": [
    "#!/usr/bin/env python3\n",
    "\n",
    "import sys\n",
    "import pickle\n",
    "import pandas as pd\n",
    "from sklearn.linear_model import LogisticRegression\n",
    "from sklearn.model_selection import train_test_split\n",
    "from sklearn.preprocessing import StandardScaler\n",
    "from sklearn.metrics import precision_score, recall_score, accuracy_score\n",
    "\n",
    "def train_logistic_regression(X_train, y_train):\n",
    "    # Standardize features\n",
    "    scaler = StandardScaler()\n",
    "    X_train = scaler.fit_transform(X_train)\n",
    "\n",
    "    # Create and train logistic regression model with increased max_iter\n",
    "    logistic = LogisticRegression(max_iter=1000)\n",
    "    logistic.fit(X_train, y_train)\n",
    "\n",
    "    # Evaluate the model\n",
    "    y_pred_train = logistic.predict(X_train)\n",
    "\n",
    "    accuracy = accuracy_score(y_train, y_pred_train)\n",
    "    precision = precision_score(y_train, y_pred_train)\n",
    "    recall = recall_score(y_train, y_pred_train)\n",
    "\n",
    "    print(f\"Training Accuracy: {accuracy}\")\n",
    "    print(f\"Training Precision: {precision}\")\n",
    "    print(f\"Training Recall: {recall}\")\n",
    "\n",
    "    # Save the trained model as a pickle file\n",
    "    with open('logistic_model.pkl', 'wb') as model_file:\n",
    "        pickle.dump(logistic, model_file, protocol=2)\n",
    "\n",
    "    # Save the vectorizer as a pickle file\n",
    "    with open('vectorizer.pkl', 'wb') as vectorizer_file:\n",
    "        pickle.dump(scaler, vectorizer_file, protocol=2)\n",
    "\n",
    "    return logistic, accuracy, precision, recall\n",
    "\n",
    "def main():\n",
    "    # Specify the number of rows to include for training\n",
    "    #num_rows_train = 30000  # You can change this number as needed\n",
    "\n",
    "    # Read training data from \"flights_train.txt\"\n",
    "    train_data = pd.read_csv(\"flights_train.txt\", sep='\\t')\n",
    "\n",
    "    # Extract features and labels\n",
    "    X_train = train_data[\"Features\"].apply(eval).tolist()\n",
    "\n",
    "    # Convert the \"delay\" column to binary (0 for not delayed, 1 for delayed)\n",
    "    y_train = train_data[\"delay\"].apply(lambda x: 1 if x > 0 else 0).tolist()\n",
    "\n",
    "    # Train logistic regression model\n",
    "    logistic_model, training_accuracy, training_precision, training_recall = train_logistic_regression(X_train, y_train)\n",
    "\n",
    "    \n",
    "if __name__ == \"__main__\":\n",
    "    main()\n"
   ]
  },
  {
   "cell_type": "markdown",
   "id": "a357e2fd",
   "metadata": {},
   "source": [
    "# Reducer.py"
   ]
  },
  {
   "cell_type": "code",
   "execution_count": 24,
   "id": "efe6cf42",
   "metadata": {},
   "outputs": [
    {
     "name": "stdout",
     "output_type": "stream",
     "text": [
      "Test Accuracy: 0.6465600681404623\n",
      "Test Precision: 0.6537159991432855\n",
      "Test Recall: 0.9359131607997057\n"
     ]
    }
   ],
   "source": [
    "#!/usr/bin/env python3\n",
    "\n",
    "import sys\n",
    "import pickle\n",
    "import pandas as pd\n",
    "from sklearn.metrics import precision_score, recall_score, accuracy_score\n",
    "\n",
    "def test_logistic_regression(X_test, y_test):\n",
    "    # Load the trained model from pickle file\n",
    "    with open('logistic_model.pkl', 'rb') as model_file:\n",
    "        logistic = pickle.load(model_file)\n",
    "\n",
    "    # Load the vectorizer from pickle file\n",
    "    with open('vectorizer.pkl', 'rb') as vectorizer_file:\n",
    "        scaler = pickle.load(vectorizer_file)\n",
    "\n",
    "    # Standardize features\n",
    "    X_test = scaler.transform(X_test)\n",
    "\n",
    "    # Convert the \"delay\" column to binary (0 for not delayed, 1 for delayed)\n",
    "    y_test_binary = [1 if x > 0 else 0 for x in y_test]\n",
    "\n",
    "    # Evaluate the model on the test set\n",
    "    y_pred_test = logistic.predict(X_test)\n",
    "\n",
    "    test_accuracy = accuracy_score(y_test_binary, y_pred_test)\n",
    "    test_precision = precision_score(y_test_binary, y_pred_test)\n",
    "    test_recall = recall_score(y_test_binary, y_pred_test)\n",
    "\n",
    "    print(f\"Test Accuracy: {test_accuracy}\")\n",
    "    print(f\"Test Precision: {test_precision}\")\n",
    "    print(f\"Test Recall: {test_recall}\")\n",
    "\n",
    "def main():\n",
    "    # Specify the number of rows to include for testing\n",
    "    #num_rows_test = 500  # You can change this number as needed\n",
    "\n",
    "    # Read testing data from \"flights_test.txt\"\n",
    "    test_data = pd.read_csv(\"flights_test.txt\", sep='\\t')\n",
    "\n",
    "    # Extract features and labels\n",
    "    X_test = test_data[\"Features\"].apply(eval).tolist()\n",
    "    y_test = test_data[\"delay\"].tolist()\n",
    "\n",
    "    # Test logistic regression model\n",
    "    test_logistic_regression(X_test, y_test)\n",
    "\n",
    "if __name__ == \"__main__\":\n",
    "    main()\n"
   ]
  },
  {
   "cell_type": "code",
   "execution_count": null,
   "id": "e3782ff1",
   "metadata": {},
   "outputs": [],
   "source": []
  }
 ],
 "metadata": {
  "kernelspec": {
   "display_name": "Python 3 (ipykernel)",
   "language": "python",
   "name": "python3"
  },
  "language_info": {
   "codemirror_mode": {
    "name": "ipython",
    "version": 3
   },
   "file_extension": ".py",
   "mimetype": "text/x-python",
   "name": "python",
   "nbconvert_exporter": "python",
   "pygments_lexer": "ipython3",
   "version": "3.9.18"
  }
 },
 "nbformat": 4,
 "nbformat_minor": 5
}
