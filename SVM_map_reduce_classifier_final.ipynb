{
 "cells": [
  {
   "cell_type": "markdown",
   "id": "d6bb5427",
   "metadata": {},
   "source": [
    "# Mapper3.py"
   ]
  },
  {
   "cell_type": "code",
   "execution_count": 4,
   "id": "95e1cd84",
   "metadata": {},
   "outputs": [
    {
     "name": "stdout",
     "output_type": "stream",
     "text": [
      "Training Accuracy: 0.6474246361872129\n",
      "Training Precision: 0.6543444618740526\n",
      "Training Recall: 0.9435711130405642\n"
     ]
    }
   ],
   "source": [
    "#!/usr/bin/env python3\n",
    "\n",
    "import sys\n",
    "import pickle\n",
    "import pandas as pd\n",
    "from sklearn.svm import LinearSVC\n",
    "from sklearn.model_selection import train_test_split\n",
    "from sklearn.metrics import precision_score, recall_score, accuracy_score\n",
    "from sklearn.preprocessing import StandardScaler\n",
    "\n",
    "def train_svm(X_train, y_train):\n",
    "    # Scale the features\n",
    "    scaler = StandardScaler()\n",
    "    X_train_scaled = scaler.fit_transform(X_train)\n",
    "\n",
    "    # Create and train Linear Support Vector Machine (SVM) classifier with parallelization\n",
    "    svm_classifier = LinearSVC(dual=False)  # Set dual=False for better performance with large datasets\n",
    "    svm_classifier.fit(X_train_scaled, y_train)\n",
    "\n",
    "    # Evaluate the model\n",
    "    y_pred_train = svm_classifier.predict(X_train_scaled)\n",
    "\n",
    "    accuracy = accuracy_score(y_train, y_pred_train)\n",
    "    precision = precision_score(y_train, y_pred_train, average='binary')\n",
    "    recall = recall_score(y_train, y_pred_train, average='binary')\n",
    "\n",
    "    print(f\"Training Accuracy: {accuracy}\")\n",
    "    print(f\"Training Precision: {precision}\")\n",
    "    print(f\"Training Recall: {recall}\")\n",
    "\n",
    "    # Save the trained model as a pickle file\n",
    "    with open('svm_model.pkl', 'wb') as model_file:\n",
    "        pickle.dump(svm_classifier, model_file, protocol=2)\n",
    "\n",
    "    return svm_classifier, accuracy, precision, recall\n",
    "\n",
    "def main():\n",
    "    # Specify the number of rows to include for training\n",
    "    #num_rows_train = 30000  # You can change this number as needed\n",
    "\n",
    "    # Read training data from \"flights_train.txt\"\n",
    "    train_data = pd.read_csv(\"flights_train.txt\", sep='\\t')\n",
    "\n",
    "    # Extract features and labels\n",
    "    X_train = train_data[\"Features\"].apply(eval).tolist()\n",
    "    y_train = train_data[\"delay\"].apply(lambda x: 1 if x > 0 else 0).tolist()\n",
    "\n",
    "    # Train Linear Support Vector Machine (SVM) classifier\n",
    "    svm_model, training_accuracy, training_precision, training_recall = train_svm(X_train, y_train)\n",
    "\n",
    "if __name__ == \"__main__\":\n",
    "    main()\n"
   ]
  },
  {
   "cell_type": "markdown",
   "id": "cd935ef7",
   "metadata": {},
   "source": [
    "# Reducer3.py"
   ]
  },
  {
   "cell_type": "code",
   "execution_count": 5,
   "id": "0d354b69",
   "metadata": {},
   "outputs": [
    {
     "name": "stdout",
     "output_type": "stream",
     "text": [
      "Test Accuracy: 0.6462890549382477\n",
      "Test Precision: 0.6516625772061935\n",
      "Test Recall: 0.9446829387955353\n"
     ]
    }
   ],
   "source": [
    "#!/usr/bin/env python3\n",
    "\n",
    "import sys\n",
    "import pickle\n",
    "import pandas as pd\n",
    "from sklearn.metrics import precision_score, recall_score, accuracy_score\n",
    "from sklearn.preprocessing import StandardScaler\n",
    "\n",
    "def test_svm(X_test, y_test):\n",
    "    # Load the trained model from pickle file\n",
    "    with open('svm_model.pkl', 'rb') as model_file:\n",
    "        svm_classifier = pickle.load(model_file)\n",
    "\n",
    "    # Scale the features\n",
    "    scaler = StandardScaler()\n",
    "    X_test_scaled = scaler.fit_transform(X_test)\n",
    "\n",
    "    # Convert the \"delay\" column to binary (0 for not delayed, 1 for delayed)\n",
    "    y_test_binary = [1 if x > 0 else 0 for x in y_test]\n",
    "\n",
    "    # Evaluate the model on the test set\n",
    "    y_pred_test = svm_classifier.predict(X_test_scaled)\n",
    "\n",
    "    test_accuracy = accuracy_score(y_test_binary, y_pred_test)\n",
    "    test_precision = precision_score(y_test_binary, y_pred_test)\n",
    "    test_recall = recall_score(y_test_binary, y_pred_test)\n",
    "\n",
    "    print(f\"Test Accuracy: {test_accuracy}\")\n",
    "    print(f\"Test Precision: {test_precision}\")\n",
    "    print(f\"Test Recall: {test_recall}\")\n",
    "\n",
    "def main():\n",
    "    # Specify the number of rows to include for testing\n",
    "    #num_rows_test = 500  # You can change this number as needed\n",
    "\n",
    "    # Read testing data from \"flights_test.txt\"\n",
    "    test_data = pd.read_csv(\"flights_test.txt\", sep='\\t')\n",
    "\n",
    "    # Extract features and labels\n",
    "    X_test = test_data[\"Features\"].apply(eval).tolist()\n",
    "    y_test = test_data[\"delay\"].tolist()\n",
    "\n",
    "    # Test Linear Support Vector Machine (SVM) classifier\n",
    "    test_svm(X_test, y_test)\n",
    "\n",
    "if __name__ == \"__main__\":\n",
    "    main()\n"
   ]
  },
  {
   "cell_type": "code",
   "execution_count": null,
   "id": "d6c82c8e",
   "metadata": {},
   "outputs": [],
   "source": []
  }
 ],
 "metadata": {
  "kernelspec": {
   "display_name": "Python 3 (ipykernel)",
   "language": "python",
   "name": "python3"
  },
  "language_info": {
   "codemirror_mode": {
    "name": "ipython",
    "version": 3
   },
   "file_extension": ".py",
   "mimetype": "text/x-python",
   "name": "python",
   "nbconvert_exporter": "python",
   "pygments_lexer": "ipython3",
   "version": "3.9.18"
  }
 },
 "nbformat": 4,
 "nbformat_minor": 5
}
